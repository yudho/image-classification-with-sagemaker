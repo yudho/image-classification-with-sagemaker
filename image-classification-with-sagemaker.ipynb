{
 "cells": [
  {
   "cell_type": "markdown",
   "metadata": {},
   "source": [
    "# Prequisites and Preprocessing\n",
    "\n",
    "### Step IC1: Import necessary libraries and setup session"
   ]
  },
  {
   "cell_type": "code",
   "execution_count": 26,
   "metadata": {},
   "outputs": [
    {
     "name": "stderr",
     "output_type": "stream",
     "text": [
      "INFO:sagemaker:Created S3 bucket: sagemaker-us-east-1-344028372807\n"
     ]
    },
    {
     "name": "stdout",
     "output_type": "stream",
     "text": [
      "CPU times: user 130 ms, sys: 24.2 ms, total: 154 ms\n",
      "Wall time: 314 ms\n"
     ]
    }
   ],
   "source": [
    "%%time\n",
    "import boto3\n",
    "import re\n",
    "from sagemaker import get_execution_role\n",
    "from sagemaker.amazon.amazon_estimator import get_image_uri\n",
    "from sagemaker import session\n",
    "\n",
    "project_name=\"image-classification-fulltraining\"\n",
    "\n",
    "sess = session.Session()\n",
    "bucket = sess.default_bucket()\n",
    "s3_project_folder = project_name\n",
    "role = get_execution_role()\n",
    "\n",
    "training_image = get_image_uri(boto3.Session().region_name, 'image-classification')"
   ]
  },
  {
   "cell_type": "markdown",
   "metadata": {},
   "source": [
    "### Step IC2: Upload training data to this SageMaker notebook instance"
   ]
  },
  {
   "cell_type": "markdown",
   "metadata": {},
   "source": [
    "Create raw input data directory"
   ]
  },
  {
   "cell_type": "code",
   "execution_count": 2,
   "metadata": {},
   "outputs": [],
   "source": [
    "import os \n",
    "path = \"{}/data\".format(os.getcwd())\n",
    "if not os.path.exists(path):\n",
    "    os.makedirs(path)"
   ]
  },
  {
   "cell_type": "markdown",
   "metadata": {},
   "source": [
    "**IMPORTANT:**  ***Upload the images to /data folder, with a subfolder for each class***    \n",
    "For example, if you want to classify coffee types that has 3 classes: arabica, robusta, and liberica.  \n",
    "Your folder structure should look like one below:  \n",
    "<pre>\n",
    "/data    \n",
    "  /arabica  \n",
    "    /image1.jpg  \n",
    "    /image2.jpg  \n",
    "    ...\n",
    "  /robusta  \n",
    "    /image1.jpg  \n",
    "    /image2.jpg  \n",
    "    ...\n",
    "  /liberica   \n",
    "    /image1.jpg  \n",
    "    /image2.jpg  \n",
    "    ...\n",
    "</pre>"
   ]
  },
  {
   "cell_type": "markdown",
   "metadata": {},
   "source": [
    "### Step IC3: Build train and validation set"
   ]
  },
  {
   "cell_type": "markdown",
   "metadata": {},
   "source": [
    "***Define the train and validation set, also how many percents of images should be allocated to validation set***"
   ]
  },
  {
   "cell_type": "code",
   "execution_count": 3,
   "metadata": {},
   "outputs": [],
   "source": [
    "train_set = []\n",
    "validation_set = []\n",
    "validation_percentage = 0.20"
   ]
  },
  {
   "cell_type": "markdown",
   "metadata": {},
   "source": [
    "***Shuffle data and generate train data set and validation data set***"
   ]
  },
  {
   "cell_type": "code",
   "execution_count": 4,
   "metadata": {},
   "outputs": [
    {
     "name": "stdout",
     "output_type": "stream",
     "text": [
      "There are 256 of images in training data set\n",
      "There are 63 of images in validation data set\n"
     ]
    }
   ],
   "source": [
    "import os\n",
    "from random import shuffle\n",
    "            \n",
    "def move_percentage(list_a, percentage):\n",
    "    shuffle(list_a)\n",
    "    count = int(len(list_a) * percentage)\n",
    "    if not count: return []  # edge case, no elements removed\n",
    "    list_a[-count:], list_b = [], list_a[-count:]\n",
    "    return list_b\n",
    "\n",
    "path = \"{}/data\".format(os.getcwd())\n",
    "categories = os.listdir(path)\n",
    "categories = list(filter(lambda x: (not x.startswith('.') and not x.endswith('.lst')) ,categories))\n",
    "\n",
    "category_index = 0\n",
    "for c in categories:\n",
    "    p = \"{}/{}\".format(path,c)\n",
    "    files = os.listdir(p)\n",
    "    for f in files:\n",
    "        item = {\n",
    "            'label': category_index,\n",
    "            'file_name': f\n",
    "        }\n",
    "        train_set.append(item)\n",
    "    category_index = category_index + 1\n",
    "\n",
    "validation_set = move_percentage(train_set, validation_percentage)\n",
    "print(\"There are {} of images in training data set\".format(len(train_set)))\n",
    "print(\"There are {} of images in validation data set\".format(len(validation_set)))"
   ]
  },
  {
   "cell_type": "markdown",
   "metadata": {},
   "source": [
    "### Step IC4: Generate list file to be used by training algorithm \n",
    "Each row in list file correspond to 1 image data, with 3 columns: index, label, and file name"
   ]
  },
  {
   "cell_type": "code",
   "execution_count": 12,
   "metadata": {},
   "outputs": [
    {
     "name": "stdout",
     "output_type": "stream",
     "text": [
      "List file for train_set generated. First 10 lines:\n",
      "1\t1\tairplanes-image_0111.jpg\n",
      "2\t1\tairplanes-image_0677.jpg\n",
      "3\t1\tairplanes-image_0686.jpg\n",
      "4\t1\tairplanes-image_0716.jpg\n",
      "5\t0\tcamera-image_0028.jpg\n",
      "6\t1\tairplanes-image_0062.jpg\n",
      "7\t1\tairplanes-image_0052.jpg\n",
      "8\t1\tairplanes-image_0066.jpg\n",
      "9\t1\tairplanes-image_0129.jpg\n",
      "10\t1\tairplanes-image_0694.jpg\n",
      "\n",
      "\n",
      "List file for validation_set generated. First 10 lines:\n",
      "1\t1\tairplanes-image_0752.jpg\n",
      "2\t1\tairplanes-image_0667.jpg\n",
      "3\t1\tairplanes-image_0053.jpg\n",
      "4\t0\tcamera-image_0027.jpg\n",
      "5\t1\tairplanes-image_0027.jpg\n",
      "6\t1\tairplanes-image_0028.jpg\n",
      "7\t1\tairplanes-image_0747.jpg\n",
      "8\t1\tairplanes-image_0689.jpg\n",
      "9\t1\tairplanes-image_0090.jpg\n",
      "10\t0\tcamera-image_0047.jpg\n"
     ]
    }
   ],
   "source": [
    "import os\n",
    "\n",
    "train_lst_path = \"{}/train.lst\".format(path)\n",
    "if os.path.exists(train_lst_path):\n",
    "  os.remove(train_lst_path)\n",
    "f = open(\"{}/train.lst\".format(path), \"a\")\n",
    "index = 1\n",
    "for i in train_set:\n",
    "    f.write(\"{}\\t{}\\t{}-{}\".format(index, i['label'],categories[int(i['label'])],i['file_name']))\n",
    "    index = index + 1\n",
    "    if index <= len(train_set):\n",
    "        f.write(\"\\n\")\n",
    "\n",
    "f.close()\n",
    "print(\"List file for train_set generated. First 10 lines:\")\n",
    "!head $train_lst_path\n",
    "\n",
    "validation_lst_path = \"{}/validation.lst\".format(path)\n",
    "if os.path.exists(validation_lst_path):\n",
    "  os.remove(validation_lst_path)\n",
    "f = open(\"{}/validation.lst\".format(path), \"a\")\n",
    "index = 1\n",
    "for i in validation_set:\n",
    "    f.write(\"{}\\t{}\\t{}-{}\".format(index, i['label'],categories[int(i['label'])],i['file_name']))\n",
    "    index = index + 1\n",
    "    if index <= len(validation_set):\n",
    "        f.write(\"\\n\")\n",
    "        \n",
    "f.close()\n",
    "print(\"\\n\\nList file for validation_set generated. First 10 lines:\")\n",
    "!head $validation_lst_path\n"
   ]
  },
  {
   "cell_type": "markdown",
   "metadata": {},
   "source": [
    "### Step IC5: Upload to S3"
   ]
  },
  {
   "cell_type": "code",
   "execution_count": 14,
   "metadata": {},
   "outputs": [
    {
     "name": "stdout",
     "output_type": "stream",
     "text": [
      "Uploading: 0 %\n",
      "Uploading: 5 %\n",
      "Uploading: 10 %\n",
      "Uploading: 15 %\n",
      "Uploading: 20 %\n",
      "Uploading: 25 %\n",
      "Uploading: 30 %\n",
      "Uploading: 35 %\n",
      "Uploading: 40 %\n",
      "Uploading: 45 %\n",
      "Uploading: 50 %\n",
      "Uploading: 55 %\n",
      "Uploading: 60 %\n",
      "Uploading: 65 %\n",
      "Uploading: 70 %\n",
      "Uploading: 75 %\n",
      "Uploading: 80 %\n",
      "Uploading: 85 %\n",
      "Uploading: 90 %\n",
      "Uploading: 95 %\n",
      "Finished\n"
     ]
    }
   ],
   "source": [
    "import os \n",
    "import boto3\n",
    "        \n",
    "def upload_to_s3(channel, file, name):\n",
    "    s3 = boto3.resource('s3')\n",
    "    data = open(file, \"rb\")\n",
    "    key = channel + '/' + name\n",
    "    s3.Bucket(bucket).put_object(Key=key, Body=data)\n",
    "\n",
    "s3_train_path = \"{}/train\".format(s3_project_folder)\n",
    "s3_validation_path = \"{}/validation\".format(s3_project_folder)\n",
    "s3_lst_path = s3_project_folder\n",
    "\n",
    "upload_to_s3(s3_lst_path, train_lst_path, 'train.lst')\n",
    "upload_to_s3(s3_lst_path, validation_lst_path, 'validation.lst')\n",
    "\n",
    "index=0\n",
    "modulus=round(0.05*(len(train_set)+len(validation_set)))\n",
    "for i in train_set:\n",
    "    upload_to_s3(\n",
    "        channel=s3_train_path, \n",
    "        file=\"{}/{}/{}\".format(path,categories[int(i['label'])],i['file_name']),\n",
    "        name=\"{}-{}\".format(categories[int(i['label'])], i['file_name'])\n",
    "    )\n",
    "    if not index%modulus:\n",
    "        print(\"Uploading: {} %\".format(round(index/(len(train_set)+len(validation_set))*100)))\n",
    "    index = index + 1\n",
    "for i in validation_set:\n",
    "    upload_to_s3(\n",
    "        channel=s3_validation_path, \n",
    "        file=\"{}/{}/{}\".format(path,categories[int(i['label'])],i['file_name']),\n",
    "        name=\"{}-{}\".format(categories[int(i['label'])], i['file_name'])\n",
    "    )\n",
    "    if not index%modulus:\n",
    "        print(\"Uploading: {} %\".format(round(index/(len(train_set)+len(validation_set))*100)))\n",
    "    index = index + 1\n",
    "\n",
    "print(\"Finished\")"
   ]
  },
  {
   "cell_type": "markdown",
   "metadata": {},
   "source": [
    "# Training the model\n",
    "\n",
    "There are two kinds of parameters that need to be set for training. The first one are the parameters for the training job. These include:\n",
    "\n",
    "* **Input specification**: These are the training and validation channels that specify the path where training data is present. These are specified in the \"InputDataConfig\" section. The main parameters that need to be set is the \"ContentType\" which can be set to \"rec\" or \"lst\" based on the input data format and the S3Uri which specifies the bucket and the folder where the data is present. \n",
    "* **Output specification**: This is specified in the \"OutputDataConfig\" section. We just need to specify the path where the output can be stored after training\n",
    "* **Resource config**: This section specifies the type of instance on which to run the training and the number of hosts used for training. If \"InstanceCount\" is more than 1, then training can be run in a distributed manner. \n",
    "\n",
    "Apart from the above set of parameters, there are hyperparameters that are specific to the algorithm. These are:\n",
    "\n",
    "* **num_layers**: The number of layers (depth) for the network. We use 101 in this samples but other values such as 50, 152 can be used. \n",
    "* **num_training_samples**: This is the total number of training samples.\n",
    "* **num_classes**: This is the number of output classes for the new dataset.\n",
    "* **epochs**: Number of training epochs\n",
    "* **learning_rate**: Learning rate for training\n",
    "* **mini_batch_size**: The number of training samples used for each mini batch. In distributed training, the number of training samples used per batch will be N * mini_batch_size where N is the number of hosts on which training is run"
   ]
  },
  {
   "cell_type": "markdown",
   "metadata": {},
   "source": [
    "### Step IC6: Setup training parameters\n",
    "Run the training using Amazon sagemaker CreateTrainingJob API"
   ]
  },
  {
   "cell_type": "code",
   "execution_count": 21,
   "metadata": {},
   "outputs": [],
   "source": [
    "# The algorithm supports multiple network depth (number of layers). They are 18, 34, 50, 101, 152 and 200\n",
    "# For this training, we will use 18 layers\n",
    "num_layers = \"18\" \n",
    "# we need to specify the input image shape for the training data\n",
    "image_shape = \"3,100,100\"\n",
    "# we also need to specify the number of training samples in the training set\n",
    "num_training_samples = len(train_set)\n",
    "# specify the number of output classes\n",
    "num_classes = len(categories)\n",
    "# batch size for training\n",
    "mini_batch_size =  \"16\"\n",
    "# number of epochs\n",
    "epochs = \"10\"\n",
    "# learning rate\n",
    "learning_rate = \"0.01\""
   ]
  },
  {
   "cell_type": "markdown",
   "metadata": {},
   "source": [
    "### Step IC7: Run training job\n",
    "Use SageMaker's Image Classification built-in algorithm to run the training job"
   ]
  },
  {
   "cell_type": "code",
   "execution_count": 22,
   "metadata": {
    "scrolled": true
   },
   "outputs": [
    {
     "name": "stdout",
     "output_type": "stream",
     "text": [
      "Training job name: image-classification-fulltraining-2019-03-26-07-53-39\n",
      "\n",
      "Input Data Location: {'S3DataType': 'S3Prefix', 'S3Uri': 's3://sagemaker-us-east-1-344028372807/image-classification-fulltraining/train', 'S3DataDistributionType': 'FullyReplicated'}\n",
      "CPU times: user 4.81 ms, sys: 0 ns, total: 4.81 ms\n",
      "Wall time: 4.8 ms\n"
     ]
    }
   ],
   "source": [
    "%%time\n",
    "import time\n",
    "import boto3\n",
    "from time import gmtime, strftime\n",
    "\n",
    "\n",
    "s3 = boto3.client('s3')\n",
    "# create unique job name \n",
    "job_name_prefix = s3_project_folder\n",
    "timestamp = time.strftime('-%Y-%m-%d-%H-%M-%S', time.gmtime())\n",
    "job_name = job_name_prefix + timestamp\n",
    "training_params = \\\n",
    "{\n",
    "    # specify the training docker image\n",
    "    \"AlgorithmSpecification\": {\n",
    "        \"TrainingImage\": training_image,\n",
    "        \"TrainingInputMode\": \"File\"\n",
    "    },\n",
    "    \"RoleArn\": role,\n",
    "    \"OutputDataConfig\": {\n",
    "        \"S3OutputPath\": 's3://{}/{}/output'.format(bucket, job_name_prefix)\n",
    "    },\n",
    "    \"ResourceConfig\": {\n",
    "        \"InstanceCount\": 1,\n",
    "        \"InstanceType\": \"ml.p2.xlarge\",\n",
    "        \"VolumeSizeInGB\": 50\n",
    "    },\n",
    "    \"TrainingJobName\": job_name,\n",
    "    \"HyperParameters\": {\n",
    "        \"image_shape\": image_shape,\n",
    "        \"num_layers\": str(num_layers),\n",
    "        \"num_training_samples\": str(num_training_samples),\n",
    "        \"num_classes\": str(num_classes),\n",
    "        \"mini_batch_size\": str(mini_batch_size),\n",
    "        \"epochs\": str(epochs),\n",
    "        \"learning_rate\": str(learning_rate)\n",
    "    },\n",
    "    \"StoppingCondition\": {\n",
    "        \"MaxRuntimeInSeconds\": 360000\n",
    "    },\n",
    "#Training data should be inside a subdirectory called \"train\"\n",
    "#Validation data should be inside a subdirectory called \"validation\"\n",
    "#The algorithm currently only supports fullyreplicated model (where data is copied onto each machine)\n",
    "    \"InputDataConfig\": [\n",
    "        {\n",
    "            \"ChannelName\": \"train\",\n",
    "            \"DataSource\": {\n",
    "                \"S3DataSource\": {\n",
    "                    \"S3DataType\": \"S3Prefix\",\n",
    "                    \"S3Uri\": \"s3://{}/{}\".format(bucket,s3_train_path),\n",
    "                    \"S3DataDistributionType\": \"FullyReplicated\"\n",
    "                }\n",
    "            },\n",
    "            \"ContentType\": \"application/x-image\",\n",
    "            \"CompressionType\": \"None\"\n",
    "        },\n",
    "        {\n",
    "            \"ChannelName\": \"validation\",\n",
    "            \"DataSource\": {\n",
    "                \"S3DataSource\": {\n",
    "                    \"S3DataType\": \"S3Prefix\",\n",
    "                    \"S3Uri\": \"s3://{}/{}\".format(bucket,s3_validation_path),\n",
    "                    \"S3DataDistributionType\": \"FullyReplicated\"\n",
    "                }\n",
    "            },\n",
    "            \"ContentType\": \"application/x-image\",\n",
    "            \"CompressionType\": \"None\"\n",
    "        },\n",
    "          {\n",
    "            \"ChannelName\": \"train_lst\",\n",
    "            \"DataSource\": {\n",
    "                \"S3DataSource\": {\n",
    "                    \"S3DataType\": \"S3Prefix\",\n",
    "                    \"S3Uri\": \"s3://{}/{}/train.lst\".format(bucket,s3_lst_path),\n",
    "                    \"S3DataDistributionType\": \"FullyReplicated\"\n",
    "                }\n",
    "            },\n",
    "            \"ContentType\": \"application/x-image\",\n",
    "            \"CompressionType\": \"None\"\n",
    "        },\n",
    "          {\n",
    "            \"ChannelName\": \"validation_lst\",\n",
    "            \"DataSource\": {\n",
    "                \"S3DataSource\": {\n",
    "                    \"S3DataType\": \"S3Prefix\",\n",
    "                    \"S3Uri\": \"s3://{}/{}/validation.lst\".format(bucket,s3_lst_path),\n",
    "                    \"S3DataDistributionType\": \"FullyReplicated\"\n",
    "                }\n",
    "            },\n",
    "            \"ContentType\": \"application/x-image\",\n",
    "            \"CompressionType\": \"None\"\n",
    "        }\n",
    "    ]\n",
    "}\n",
    "print('Training job name: {}'.format(job_name))\n",
    "print('\\nInput Data Location: {}'.format(training_params['InputDataConfig'][0]['DataSource']['S3DataSource']))"
   ]
  },
  {
   "cell_type": "markdown",
   "metadata": {},
   "source": [
    "***Continuously check training job status wait until the job completes***"
   ]
  },
  {
   "cell_type": "code",
   "execution_count": 23,
   "metadata": {},
   "outputs": [
    {
     "name": "stdout",
     "output_type": "stream",
     "text": [
      "Training job current status: InProgress\n",
      "Training job ended with status: Completed\n"
     ]
    }
   ],
   "source": [
    "# create the Amazon SageMaker training job\n",
    "sagemaker = boto3.client(service_name='sagemaker')\n",
    "sagemaker.create_training_job(**training_params)\n",
    "\n",
    "# confirm that the training job has started\n",
    "status = sagemaker.describe_training_job(TrainingJobName=job_name)['TrainingJobStatus']\n",
    "print('Training job current status: {}'.format(status))\n",
    "\n",
    "try:\n",
    "    # wait for the job to finish and report the ending status\n",
    "    sagemaker.get_waiter('training_job_completed_or_stopped').wait(TrainingJobName=job_name)\n",
    "    training_info = sagemaker.describe_training_job(TrainingJobName=job_name)\n",
    "    status = training_info['TrainingJobStatus']\n",
    "    print(\"Training job ended with status: \" + status)\n",
    "except:\n",
    "    print('Training failed to start')\n",
    "     # if exception is raised, that means it has failed\n",
    "    message = sagemaker.describe_training_job(TrainingJobName=job_name)['FailureReason']\n",
    "    print('Training failed with the following error: {}'.format(message))"
   ]
  },
  {
   "cell_type": "code",
   "execution_count": 24,
   "metadata": {},
   "outputs": [
    {
     "name": "stdout",
     "output_type": "stream",
     "text": [
      "Training job ended with status: Completed\n"
     ]
    }
   ],
   "source": [
    "training_info = sagemaker.describe_training_job(TrainingJobName=job_name)\n",
    "status = training_info['TrainingJobStatus']\n",
    "print(\"Training job ended with status: \" + status)"
   ]
  },
  {
   "cell_type": "markdown",
   "metadata": {},
   "source": [
    "If you see the message,\n",
    "\n",
    "> `Training job ended with status: Completed`\n",
    "\n",
    "then that means training successfully completed and the output model was stored in the output path specified by `training_params['OutputDataConfig']`.\n",
    "\n",
    "You can also view information about and the status of a training job using the AWS SageMaker console. Just click on the \"Jobs\" tab."
   ]
  },
  {
   "cell_type": "markdown",
   "metadata": {},
   "source": [
    "# Deploy The Model\n",
    "\n",
    "A trained model does nothing on its own. We now want to use the model to perform inference. For this example, that means predicting the topic mixture representing a given document."
   ]
  },
  {
   "cell_type": "markdown",
   "metadata": {},
   "source": [
    "## Step IC8: Create model\n",
    "\n",
    "We now create a SageMaker Model from the training output. Using the model we can create a Batch Transform Job or an Endpoint Configuration."
   ]
  },
  {
   "cell_type": "code",
   "execution_count": 27,
   "metadata": {},
   "outputs": [
    {
     "name": "stdout",
     "output_type": "stream",
     "text": [
      "image-classification-fulltraining\n",
      "s3://sagemaker-us-east-1-344028372807/image-classification-fulltraining/output/image-classification-fulltraining-2019-03-26-07-53-39/output/model.tar.gz\n",
      "arn:aws:sagemaker:us-east-1:344028372807:model/image-classification-fulltraining\n",
      "CPU times: user 56.5 ms, sys: 12.1 ms, total: 68.6 ms\n",
      "Wall time: 384 ms\n"
     ]
    }
   ],
   "source": [
    "%%time\n",
    "import boto3\n",
    "from time import gmtime, strftime\n",
    "\n",
    "sage = boto3.Session().client(service_name='sagemaker') \n",
    "\n",
    "model_name=project_name\n",
    "print(model_name)\n",
    "info = sage.describe_training_job(TrainingJobName=job_name)\n",
    "model_data = info['ModelArtifacts']['S3ModelArtifacts']\n",
    "print(model_data)\n",
    "\n",
    "hosting_image = get_image_uri(boto3.Session().region_name, 'image-classification')\n",
    "\n",
    "primary_container = {\n",
    "    'Image': hosting_image,\n",
    "    'ModelDataUrl': model_data,\n",
    "}\n",
    "\n",
    "create_model_response = sage.create_model(\n",
    "    ModelName = model_name,\n",
    "    ExecutionRoleArn = role,\n",
    "    PrimaryContainer = primary_container)\n",
    "\n",
    "print(create_model_response['ModelArn'])"
   ]
  },
  {
   "cell_type": "markdown",
   "metadata": {},
   "source": [
    "# Realtime inference\n",
    "\n",
    "We now host the model with an endpoint and perform realtime inference."
   ]
  },
  {
   "cell_type": "markdown",
   "metadata": {},
   "source": [
    "### Step IC9: Create Endpoint Configuration\n",
    "At launch, we will support configuring REST endpoints in hosting with multiple models, e.g. for A/B testing purposes. In order to support this, customers create an endpoint configuration, that describes the distribution of traffic across the models, whether split, shadowed, or sampled in some way.\n",
    "\n",
    "In addition, the endpoint configuration describes the instance type required for model deployment, and at launch will describe the autoscaling configuration."
   ]
  },
  {
   "cell_type": "code",
   "execution_count": 28,
   "metadata": {},
   "outputs": [
    {
     "name": "stdout",
     "output_type": "stream",
     "text": [
      "Endpoint configuration name: image-classification-fulltraining-epc--2019-03-26-08-03-01\n",
      "Endpoint configuration arn:  arn:aws:sagemaker:us-east-1:344028372807:endpoint-config/image-classification-fulltraining-epc--2019-03-26-08-03-01\n"
     ]
    }
   ],
   "source": [
    "from time import gmtime, strftime\n",
    "\n",
    "timestamp = time.strftime('-%Y-%m-%d-%H-%M-%S', time.gmtime())\n",
    "endpoint_config_name = job_name_prefix + '-epc-' + timestamp\n",
    "endpoint_config_response = sage.create_endpoint_config(\n",
    "    EndpointConfigName = endpoint_config_name,\n",
    "    ProductionVariants=[{\n",
    "        'InstanceType':'ml.m4.xlarge',\n",
    "        'InitialInstanceCount':1,\n",
    "        'ModelName':model_name,\n",
    "        'VariantName':'AllTraffic'}])\n",
    "\n",
    "print('Endpoint configuration name: {}'.format(endpoint_config_name))\n",
    "print('Endpoint configuration arn:  {}'.format(endpoint_config_response['EndpointConfigArn']))"
   ]
  },
  {
   "cell_type": "markdown",
   "metadata": {},
   "source": [
    "### Step IC10: Create Endpoint\n",
    "Creates the endpoint that serves up the model. The end result is an endpoint that can be validated and incorporated into production applications."
   ]
  },
  {
   "cell_type": "code",
   "execution_count": 29,
   "metadata": {},
   "outputs": [
    {
     "name": "stdout",
     "output_type": "stream",
     "text": [
      "Endpoint name: image-classification-fulltraining-ep--2019-03-26-08-03-05\n",
      "EndpointArn = arn:aws:sagemaker:us-east-1:344028372807:endpoint/image-classification-fulltraining-ep--2019-03-26-08-03-05\n",
      "CPU times: user 13.9 ms, sys: 65 µs, total: 14 ms\n",
      "Wall time: 323 ms\n"
     ]
    }
   ],
   "source": [
    "%%time\n",
    "import time\n",
    "\n",
    "timestamp = time.strftime('-%Y-%m-%d-%H-%M-%S', time.gmtime())\n",
    "endpoint_name = job_name_prefix + '-ep-' + timestamp\n",
    "print('Endpoint name: {}'.format(endpoint_name))\n",
    "\n",
    "endpoint_params = {\n",
    "    'EndpointName': endpoint_name,\n",
    "    'EndpointConfigName': endpoint_config_name,\n",
    "}\n",
    "endpoint_response = sagemaker.create_endpoint(**endpoint_params)\n",
    "print('EndpointArn = {}'.format(endpoint_response['EndpointArn']))"
   ]
  },
  {
   "cell_type": "markdown",
   "metadata": {},
   "source": [
    "***Continuously check whether the endpoint has been successfully created***"
   ]
  },
  {
   "cell_type": "code",
   "execution_count": null,
   "metadata": {},
   "outputs": [
    {
     "name": "stdout",
     "output_type": "stream",
     "text": [
      "EndpointStatus = Creating\n"
     ]
    }
   ],
   "source": [
    "# get the status of the endpoint\n",
    "response = sagemaker.describe_endpoint(EndpointName=endpoint_name)\n",
    "status = response['EndpointStatus']\n",
    "print('EndpointStatus = {}'.format(status))\n",
    "\n",
    "\n",
    "# wait until the status has changed\n",
    "sagemaker.get_waiter('endpoint_in_service').wait(EndpointName=endpoint_name)\n",
    "\n",
    "\n",
    "# print the status of the endpoint\n",
    "endpoint_response = sagemaker.describe_endpoint(EndpointName=endpoint_name)\n",
    "status = endpoint_response['EndpointStatus']\n",
    "print('Endpoint creation ended with EndpointStatus = {}'.format(status))\n",
    "\n",
    "if status != 'InService':\n",
    "    raise Exception('Endpoint creation failed.')"
   ]
  },
  {
   "cell_type": "markdown",
   "metadata": {},
   "source": [
    "If you see the message,\n",
    "\n",
    "> `Endpoint creation ended with EndpointStatus = InService`\n",
    "\n",
    "then congratulations! You now have a functioning inference endpoint. You can confirm the endpoint configuration and status by navigating to the \"Endpoints\" tab in the AWS SageMaker console."
   ]
  },
  {
   "cell_type": "markdown",
   "metadata": {},
   "source": [
    "### Step IC11: Upload test data\n"
   ]
  },
  {
   "cell_type": "markdown",
   "metadata": {},
   "source": [
    "***First upload test images***"
   ]
  },
  {
   "cell_type": "code",
   "execution_count": null,
   "metadata": {},
   "outputs": [],
   "source": [
    "import os\n",
    "path = \"{}/test-data\".format(os.getcwd())\n",
    "if not os.path.exists(path):\n",
    "    os.makedirs(path)"
   ]
  },
  {
   "cell_type": "markdown",
   "metadata": {},
   "source": [
    "**IMPORTANT:** ***Please upload several (e.g. 10) images to /test-data folder in this Jupyter Notebook***"
   ]
  },
  {
   "cell_type": "markdown",
   "metadata": {},
   "source": [
    "***Display image***"
   ]
  },
  {
   "cell_type": "code",
   "execution_count": null,
   "metadata": {},
   "outputs": [],
   "source": [
    "from IPython.display import Image\n",
    "import os\n",
    "\n",
    "test_images = os.listdir(path)\n",
    "for im in test_images:\n",
    "    file_name = \"{}/{}\".format(path,im)\n",
    "    Image(file_name)  "
   ]
  },
  {
   "cell_type": "markdown",
   "metadata": {},
   "source": [
    "### Step IC12: Perform evaluation\n",
    "\n",
    "Evaluate the images through the network for inteference for every images uploaded to /test-data folder"
   ]
  },
  {
   "cell_type": "code",
   "execution_count": null,
   "metadata": {},
   "outputs": [],
   "source": [
    "import boto3\n",
    "import json\n",
    "import numpy as np\n",
    "\n",
    "runtime = boto3.Session().client(service_name='runtime.sagemaker')\n",
    "\n",
    "for im in test_images:\n",
    "    file_name = \"{}/{}\".format(path,im)\n",
    "    with open(file_name, 'rb') as f:\n",
    "        payload = f.read()\n",
    "        payload = bytearray(payload)\n",
    "    response = runtime.invoke_endpoint(EndpointName=endpoint_name, \n",
    "                                       ContentType='application/x-image', \n",
    "                                       Body=payload)\n",
    "    result = response['Body'].read()\n",
    "    # result will be in json format and convert it to ndarray\n",
    "    result = json.loads(result)\n",
    "    # the result will output the probabilities for all classes\n",
    "    # find the class with maximum probability and print the class index\n",
    "    index = np.argmax(result)\n",
    "    print(\"Result: label - \" + categories[index] + \", probability - \" + str(result[index]))"
   ]
  },
  {
   "cell_type": "markdown",
   "metadata": {},
   "source": [
    "### Step IC13: Clean up\n",
    "\n",
    "When we're done with the endpoint, we can just delete it and the backing instances will be released.  Run the following cell to delete the endpoint."
   ]
  },
  {
   "cell_type": "code",
   "execution_count": null,
   "metadata": {},
   "outputs": [],
   "source": [
    "sage.delete_endpoint(EndpointName=endpoint_name)"
   ]
  }
 ],
 "metadata": {
  "kernelspec": {
   "display_name": "conda_python3",
   "language": "python",
   "name": "conda_python3"
  },
  "language_info": {
   "codemirror_mode": {
    "name": "ipython",
    "version": 3
   },
   "file_extension": ".py",
   "mimetype": "text/x-python",
   "name": "python",
   "nbconvert_exporter": "python",
   "pygments_lexer": "ipython3",
   "version": "3.6.5"
  }
 },
 "nbformat": 4,
 "nbformat_minor": 2
}
