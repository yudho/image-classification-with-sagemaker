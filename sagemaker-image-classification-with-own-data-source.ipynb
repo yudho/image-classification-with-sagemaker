{
 "cells": [
  {
   "cell_type": "markdown",
   "metadata": {},
   "source": [
    "# Prequisites and Preprocessing\n",
    "\n",
    "### Step IC1: Import necessary libraries and setup session"
   ]
  },
  {
   "cell_type": "code",
   "execution_count": null,
   "metadata": {},
   "outputs": [],
   "source": [
    "%%time\n",
    "import boto3\n",
    "import re\n",
    "from sagemaker import get_execution_role\n",
    "from sagemaker.amazon.amazon_estimator import get_image_uri\n",
    "from sagemaker import session\n",
    "\n",
    "project_name=\"my-projects\" # maximum 17 characters\n",
    "\n",
    "sess = session.Session()\n",
    "bucket = sess.default_bucket()\n",
    "s3_project_folder = project_name\n",
    "\n",
    "role = get_execution_role()\n",
    "training_image = get_image_uri(boto3.Session().region_name, 'image-classification')"
   ]
  },
  {
   "cell_type": "markdown",
   "metadata": {},
   "source": [
    "### Step IC2: Upload training data to this SageMaker notebook instance"
   ]
  },
  {
   "cell_type": "markdown",
   "metadata": {},
   "source": [
    "**IMPORTANT:**    \n",
    "***On your local PC/laptop, structure your source images into folders, where each folder contains all images of 1 category. All folders should be under 1 parent folder with name 'input-images*** \n",
    "It should look like one below:\n",
    "<pre> \n",
    "/input-images\n",
    "  /arabica  \n",
    "    /image1.jpg  \n",
    "    /image2.jpg  \n",
    "    ...\n",
    "  /robusta  \n",
    "    /image1.jpg  \n",
    "    /image2.jpg  \n",
    "    ...\n",
    "  /liberica   \n",
    "    /image1.jpg  \n",
    "    /image2.jpg  \n",
    "    ...\n",
    "</pre>"
   ]
  },
  {
   "cell_type": "markdown",
   "metadata": {},
   "source": [
    "***Then zip 'input-images' folder and upload to this notebook***    \n",
    "It should look like this one below:\n",
    "<pre>\n",
    "/input-images.zip\n",
    "</pre>"
   ]
  },
  {
   "cell_type": "markdown",
   "metadata": {},
   "source": [
    "***Unzip the data***"
   ]
  },
  {
   "cell_type": "code",
   "execution_count": null,
   "metadata": {},
   "outputs": [],
   "source": [
    "!unzip -o ./input-images.zip"
   ]
  },
  {
   "cell_type": "markdown",
   "metadata": {},
   "source": [
    "### Step IC3: Build train and validation set"
   ]
  },
  {
   "cell_type": "markdown",
   "metadata": {},
   "source": [
    "***Define the train and validation set, also how many percents of images should be allocated to validation set***"
   ]
  },
  {
   "cell_type": "code",
   "execution_count": null,
   "metadata": {},
   "outputs": [],
   "source": [
    "train_set = []\n",
    "validation_set = []\n",
    "validation_percentage = 0.20"
   ]
  },
  {
   "cell_type": "markdown",
   "metadata": {},
   "source": [
    "***Shuffle data and generate train data set and validation data set***"
   ]
  },
  {
   "cell_type": "code",
   "execution_count": null,
   "metadata": {},
   "outputs": [],
   "source": [
    "import os\n",
    "from random import shuffle\n",
    "            \n",
    "def move_percentage(list_a, percentage):\n",
    "    shuffle(list_a)\n",
    "    count = int(len(list_a) * percentage)\n",
    "    if not count: return []  # edge case, no elements removed\n",
    "    list_a[-count:], list_b = [], list_a[-count:]\n",
    "    return list_b\n",
    "\n",
    "path = \"{}/input-images\".format(os.getcwd())\n",
    "categories = os.listdir(path)\n",
    "categories = list(filter(lambda x: (not x.startswith('.') and not x.endswith('.lst')) ,categories))\n",
    "\n",
    "category_index = 0\n",
    "for c in categories:\n",
    "    p = \"{}/{}\".format(path,c)\n",
    "    files = os.listdir(p)\n",
    "    for f in files:\n",
    "        item = {\n",
    "            'label': category_index,\n",
    "            'file_name': f\n",
    "        }\n",
    "        train_set.append(item)\n",
    "    category_index = category_index + 1\n",
    "\n",
    "validation_set = move_percentage(train_set, validation_percentage)\n",
    "print(\"There are {} of images in training data set\".format(len(train_set)))\n",
    "print(\"There are {} of images in validation data set\".format(len(validation_set)))"
   ]
  },
  {
   "cell_type": "markdown",
   "metadata": {},
   "source": [
    "### Step IC4: Generate list file to be used by training algorithm \n",
    "Each row in list file correspond to 1 image data, with 3 columns: index, label, and file name"
   ]
  },
  {
   "cell_type": "code",
   "execution_count": null,
   "metadata": {},
   "outputs": [],
   "source": [
    "import os\n",
    "\n",
    "train_lst_path = \"{}/train.lst\".format(path)\n",
    "if os.path.exists(train_lst_path):\n",
    "  os.remove(train_lst_path)\n",
    "f = open(\"{}/train.lst\".format(path), \"a\")\n",
    "index = 1\n",
    "for i in train_set:\n",
    "    f.write(\"{}\\t{}\\t{}-{}\".format(index, i['label'],categories[int(i['label'])],i['file_name']))\n",
    "    index = index + 1\n",
    "    if index <= len(train_set):\n",
    "        f.write(\"\\n\")\n",
    "\n",
    "f.close()\n",
    "print(\"List file for train_set generated. First 10 lines:\")\n",
    "!head $train_lst_path\n",
    "\n",
    "validation_lst_path = \"{}/validation.lst\".format(path)\n",
    "if os.path.exists(validation_lst_path):\n",
    "  os.remove(validation_lst_path)\n",
    "f = open(\"{}/validation.lst\".format(path), \"a\")\n",
    "index = 1\n",
    "for i in validation_set:\n",
    "    f.write(\"{}\\t{}\\t{}-{}\".format(index, i['label'],categories[int(i['label'])],i['file_name']))\n",
    "    index = index + 1\n",
    "    if index <= len(validation_set):\n",
    "        f.write(\"\\n\")\n",
    "        \n",
    "f.close()\n",
    "print(\"\\n\\nList file for validation_set generated. First 10 lines:\")\n",
    "!head $validation_lst_path\n"
   ]
  },
  {
   "cell_type": "markdown",
   "metadata": {},
   "source": [
    "### Step IC5: Upload to S3"
   ]
  },
  {
   "cell_type": "code",
   "execution_count": null,
   "metadata": {},
   "outputs": [],
   "source": [
    "import os \n",
    "import boto3\n",
    "        \n",
    "def upload_to_s3(channel, file, name):\n",
    "    s3 = boto3.resource('s3')\n",
    "    data = open(file, \"rb\")\n",
    "    key = channel + '/' + name\n",
    "    s3.Bucket(bucket).put_object(Key=key, Body=data)\n",
    "\n",
    "s3_train_path = \"{}/train\".format(s3_project_folder)\n",
    "s3_validation_path = \"{}/validation\".format(s3_project_folder)\n",
    "s3_lst_path = s3_project_folder\n",
    "\n",
    "upload_to_s3(s3_lst_path, train_lst_path, 'train.lst')\n",
    "upload_to_s3(s3_lst_path, validation_lst_path, 'validation.lst')\n",
    "\n",
    "index=0\n",
    "modulus=round(0.05*(len(train_set)+len(validation_set)))\n",
    "for i in train_set:\n",
    "    upload_to_s3(\n",
    "        channel=s3_train_path, \n",
    "        file=\"{}/{}/{}\".format(path,categories[int(i['label'])],i['file_name']),\n",
    "        name=\"{}-{}\".format(categories[int(i['label'])], i['file_name'])\n",
    "    )\n",
    "    if not index%modulus:\n",
    "        print(\"Uploading: {} %\".format(round(index/(len(train_set)+len(validation_set))*100)))\n",
    "    index = index + 1\n",
    "for i in validation_set:\n",
    "    upload_to_s3(\n",
    "        channel=s3_validation_path, \n",
    "        file=\"{}/{}/{}\".format(path,categories[int(i['label'])],i['file_name']),\n",
    "        name=\"{}-{}\".format(categories[int(i['label'])], i['file_name'])\n",
    "    )\n",
    "    if not index%modulus:\n",
    "        print(\"Uploading: {} %\".format(round(index/(len(train_set)+len(validation_set))*100)))\n",
    "    index = index + 1\n",
    "\n",
    "print(\"Finished\")"
   ]
  },
  {
   "cell_type": "markdown",
   "metadata": {},
   "source": [
    "# Training the model\n",
    "\n",
    "We are going to train the model with SageMaker. However, instead of creating 1 training job, we can create multiple training jobs with Hyperparameter Tuning feature. The purpose is to allow the multiple traning jobs with different hyperparameter values to be tried out, seeking for the best training job with best validation accuracy.\n",
    "\n",
    "There are two kinds of parameters that need to be set for training. The first one are the parameters for the training job. These include:\n",
    "\n",
    "* **Input specification**: These are the training and validation channels that specify the path where training data is present. These are specified in the \"InputDataConfig\" section. The main parameters that need to be set is the \"ContentType\" which can be set to \"rec\" or \"lst\" based on the input data format and the S3Uri which specifies the bucket and the folder where the data is present. \n",
    "* **Output specification**: This is specified in the \"OutputDataConfig\" section. We just need to specify the path where the output can be stored after training\n",
    "* **Resource config**: This section specifies the type of instance on which to run the training and the number of hosts used for training. If \"InstanceCount\" is more than 1, then training can be run in a distributed manner. \n",
    "\n",
    "Apart from the above set of parameters, there are hyperparameters that are specific to the algorithm. These are:\n",
    "\n",
    "* **num_layers**: The number of layers (depth) for the network. We use 101 in this samples but other values such as 50, 152 can be used. \n",
    "* **num_training_samples**: This is the total number of training samples.\n",
    "* **num_classes**: This is the number of output classes for the new dataset.\n",
    "* **epochs**: Number of training epochs\n",
    "* **learning_rate**: Learning rate for training\n",
    "* **mini_batch_size**: The number of training samples used for each mini batch. In distributed training, the number of training samples used per batch will be N * mini_batch_size where N is the number of hosts on which training is run\n",
    "* **use_pretrained_model**: Whether to use pretrained model that should be able to recognize some features of the images. We will use this to avoid our machine learning model to learn to understand image from 0.\n",
    "* **optimizer**: Which optimizer to use in the training"
   ]
  },
  {
   "cell_type": "markdown",
   "metadata": {},
   "source": [
    "### Step IC6: Setup training parameters\n",
    "Run the training using Amazon sagemaker CreateHyperParameterTuningJob API"
   ]
  },
  {
   "cell_type": "code",
   "execution_count": null,
   "metadata": {},
   "outputs": [],
   "source": [
    "# The algorithm supports multiple network depth (number of layers). They are 18, 34, 50, 101, 152 and 200\n",
    "# For this training, we will use 18 layers\n",
    "num_layers = 18 \n",
    "# we need to specify the input image shape for the training data\n",
    "image_shape = \"3,224,224\"\n",
    "# we also need to specify the number of training samples in the training set\n",
    "num_training_samples = len(train_set)\n",
    "# specify the number of output classes\n",
    "num_classes = len(categories)\n",
    "# training mini batch size range to be tuned\n",
    "mini_batch_size_min = 16\n",
    "mini_batch_size_max = 64\n",
    "# number of epochs\n",
    "epochs = 10\n",
    "# learning rate range to be tuned\n",
    "learning_rate_min = \"0.0001\"\n",
    "learning_rate_max = \"1.0\"\n",
    "# maximum number of training jobs\n",
    "hpo_max_number_of_training_jobs = 20\n",
    "# maximum number of parallel training jobs\n",
    "hpo_max_number_of_parallel_jobs = 1\n",
    "# optimizers to be tried out in hyperparameter tuning\n",
    "optimizers = ['sgd', 'adam', 'rmsprop', 'nag']\n",
    "top_k = '2'"
   ]
  },
  {
   "cell_type": "markdown",
   "metadata": {},
   "source": [
    "### Step IC7: Run training jobs with automatic hyperparameter tuning\n",
    "Use SageMaker's Image Classification built-in algorithm to run the training job"
   ]
  },
  {
   "cell_type": "code",
   "execution_count": null,
   "metadata": {
    "scrolled": true
   },
   "outputs": [],
   "source": [
    "%%time\n",
    "import time\n",
    "import boto3\n",
    "from time import gmtime, strftime\n",
    "from sagemaker import session, estimator\n",
    "from sagemaker.tuner import IntegerParameter, CategoricalParameter, ContinuousParameter, HyperparameterTuner \n",
    "\n",
    "s3 = boto3.client('s3')\n",
    "# create unique job name \n",
    "job_name_prefix = s3_project_folder\n",
    "timestamp = time.strftime('-%Y%m%d-%H%M%S', time.gmtime())\n",
    "job_name = job_name_prefix + timestamp\n",
    "\n",
    "# define the SageMaker training resources\n",
    "imageclassification = estimator.Estimator(training_image, \n",
    "                                                    role, \n",
    "                                                    train_instance_count=1,\n",
    "                                                    train_instance_type='ml.p2.xlarge',\n",
    "                                                    output_path='s3://{}/{}/output'.format(bucket, job_name_prefix), \n",
    "                                                    sagemaker_session=sess)\n",
    "\n",
    "# define data input channels in S3\n",
    "train_channel = session.s3_input(\"s3://{}/{}\".format(bucket,s3_train_path), distribution='FullyReplicated', s3_data_type='S3Prefix', input_mode='File', content_type='application/x-image')\n",
    "validation_channel = session.s3_input(\"s3://{}/{}\".format(bucket,s3_validation_path), distribution='FullyReplicated', s3_data_type='S3Prefix', input_mode='File', content_type='application/x-image')\n",
    "train_lst_channel = session.s3_input(\"s3://{}/{}/train.lst\".format(bucket,s3_lst_path), distribution='FullyReplicated', s3_data_type='S3Prefix', input_mode='File', content_type='application/x-image')\n",
    "validation_lst_channel = session.s3_input(\"s3://{}/{}/validation.lst\".format(bucket,s3_lst_path), distribution='FullyReplicated', s3_data_type='S3Prefix', input_mode='File', content_type='application/x-image')\n",
    "\n",
    "# set the training static hyperparameters\n",
    "imageclassification.set_hyperparameters(num_layers=num_layers, \n",
    "                                        image_shape=image_shape,\n",
    "                                        num_classes=num_classes, \n",
    "                                        epochs=epochs, \n",
    "                                        top_k=top_k,\n",
    "                                        num_training_samples=num_training_samples,  \n",
    "                                        precision_dtype='float32')\n",
    "\n",
    "# set the parameters for hyperparameter tuning job\n",
    "hpo_objective_metric_name = 'validation:accuracy'\n",
    "hpo_hyperparameter_ranges = \\\n",
    "{\n",
    "    'learning_rate': ContinuousParameter(learning_rate_min, learning_rate_max),\n",
    "    'mini_batch_size': IntegerParameter(mini_batch_size_min, mini_batch_size_max),\n",
    "    'optimizer': CategoricalParameter(optimizers)\n",
    "}\n",
    "\n",
    "tuner_es = HyperparameterTuner(imageclassification, \n",
    "                               hpo_objective_metric_name, \n",
    "                               hpo_hyperparameter_ranges,\n",
    "                               objective_type='Maximize', \n",
    "                               max_jobs=2, \n",
    "                               max_parallel_jobs=1, \n",
    "                               early_stopping_type='Auto')\n",
    "\n",
    "# run the hyperparameter tuning job\n",
    "tuner_es.fit({ #TODO: Fix channels\n",
    "    'train': train_channel,\n",
    "    'validation': validation_channel, \n",
    "    'train_lst': train_lst_channel,\n",
    "    'validation_lst': validation_lst_channel\n",
    "}, job_name=job_name, include_cls_metadata=False)\n",
    "\n",
    "print('Hyperparameter Tuning job name: {}'.format(job_name))"
   ]
  },
  {
   "cell_type": "markdown",
   "metadata": {},
   "source": [
    "***Continuously check training job status wait until the job completes***"
   ]
  },
  {
   "cell_type": "code",
   "execution_count": null,
   "metadata": {},
   "outputs": [],
   "source": [
    "tuner_es.wait()"
   ]
  },
  {
   "cell_type": "markdown",
   "metadata": {},
   "source": [
    "### Step IC8: Analyze result and pick best training"
   ]
  },
  {
   "cell_type": "markdown",
   "metadata": {},
   "source": [
    "***List the top 5 hyperparameters***"
   ]
  },
  {
   "cell_type": "code",
   "execution_count": null,
   "metadata": {},
   "outputs": [],
   "source": [
    "from sagemaker import HyperparameterTuningJobAnalytics\n",
    "tuner_metrics_es = HyperparameterTuningJobAnalytics(job_name)\n",
    "tuner_metrics_es.dataframe().sort_values(['FinalObjectiveValue'], ascending=False).head(5)"
   ]
  },
  {
   "cell_type": "markdown",
   "metadata": {},
   "source": [
    "***Pick best training job***"
   ]
  },
  {
   "cell_type": "code",
   "execution_count": null,
   "metadata": {},
   "outputs": [],
   "source": [
    "best_training_job_name = tuner_es.best_training_job()"
   ]
  },
  {
   "cell_type": "markdown",
   "metadata": {},
   "source": [
    "# Deploy The Model\n",
    "\n",
    "A trained model does nothing on its own. We now want to use the model to perform inference. For this example, that means predicting the topic mixture representing a given document."
   ]
  },
  {
   "cell_type": "markdown",
   "metadata": {},
   "source": [
    "## Step IC9: Create model\n",
    "\n",
    "We now create a SageMaker Model from the training output. Using the model we can create a Batch Transform Job or an Endpoint Configuration."
   ]
  },
  {
   "cell_type": "code",
   "execution_count": null,
   "metadata": {},
   "outputs": [],
   "source": [
    "%%time\n",
    "import boto3\n",
    "from time import gmtime, strftime\n",
    "\n",
    "sage = boto3.Session().client(service_name='sagemaker') \n",
    "\n",
    "model_name=project_name\n",
    "print(model_name)\n",
    "info = sage.describe_training_job(TrainingJobName=best_training_job_name)\n",
    "model_data = info['ModelArtifacts']['S3ModelArtifacts']\n",
    "print(model_data)\n",
    "\n",
    "hosting_image = get_image_uri(boto3.Session().region_name, 'image-classification')\n",
    "\n",
    "primary_container = {\n",
    "    'Image': hosting_image,\n",
    "    'ModelDataUrl': model_data,\n",
    "}\n",
    "\n",
    "create_model_response = sage.create_model(\n",
    "    ModelName = model_name,\n",
    "    ExecutionRoleArn = role,\n",
    "    PrimaryContainer = primary_container)\n",
    "\n",
    "print(create_model_response['ModelArn'])"
   ]
  },
  {
   "cell_type": "markdown",
   "metadata": {},
   "source": [
    "# Realtime inference\n",
    "\n",
    "We now host the model with an endpoint and perform realtime inference."
   ]
  },
  {
   "cell_type": "markdown",
   "metadata": {},
   "source": [
    "### Step IC10: Create Endpoint Configuration\n",
    "At launch, we will support configuring REST endpoints in hosting with multiple models, e.g. for A/B testing purposes. In order to support this, customers create an endpoint configuration, that describes the distribution of traffic across the models, whether split, shadowed, or sampled in some way.\n",
    "\n",
    "In addition, the endpoint configuration describes the instance type required for model deployment, and at launch will describe the autoscaling configuration."
   ]
  },
  {
   "cell_type": "code",
   "execution_count": null,
   "metadata": {},
   "outputs": [],
   "source": [
    "from time import gmtime, strftime\n",
    "\n",
    "timestamp = time.strftime('-%Y-%m-%d-%H-%M-%S', time.gmtime())\n",
    "endpoint_config_name = job_name_prefix + '-epc-' + timestamp\n",
    "endpoint_config_response = sage.create_endpoint_config(\n",
    "    EndpointConfigName = endpoint_config_name,\n",
    "    ProductionVariants=[{\n",
    "        'InstanceType':'ml.m4.xlarge',\n",
    "        'InitialInstanceCount':1,\n",
    "        'ModelName':model_name,\n",
    "        'VariantName':'AllTraffic'}])\n",
    "\n",
    "print('Endpoint configuration name: {}'.format(endpoint_config_name))\n",
    "print('Endpoint configuration arn:  {}'.format(endpoint_config_response['EndpointConfigArn']))"
   ]
  },
  {
   "cell_type": "markdown",
   "metadata": {},
   "source": [
    "### Step IC11: Create Endpoint\n",
    "Creates the endpoint that serves up the model. The end result is an endpoint that can be validated and incorporated into production applications."
   ]
  },
  {
   "cell_type": "code",
   "execution_count": null,
   "metadata": {},
   "outputs": [],
   "source": [
    "%%time\n",
    "import time\n",
    "import boto3\n",
    "\n",
    "sagemaker = boto3.client('sagemaker')\n",
    "\n",
    "timestamp = time.strftime('-%Y-%m-%d-%H-%M-%S', time.gmtime())\n",
    "endpoint_name = job_name_prefix + '-ep-' + timestamp\n",
    "print('Endpoint name: {}'.format(endpoint_name))\n",
    "\n",
    "endpoint_params = {\n",
    "    'EndpointName': endpoint_name,\n",
    "    'EndpointConfigName': endpoint_config_name,\n",
    "}\n",
    "endpoint_response = sagemaker.create_endpoint(**endpoint_params)\n",
    "print('EndpointArn = {}'.format(endpoint_response['EndpointArn']))"
   ]
  },
  {
   "cell_type": "markdown",
   "metadata": {},
   "source": [
    "***Continuously check whether the endpoint has been successfully created***"
   ]
  },
  {
   "cell_type": "code",
   "execution_count": null,
   "metadata": {},
   "outputs": [],
   "source": [
    "# get the status of the endpoint\n",
    "response = sagemaker.describe_endpoint(EndpointName=endpoint_name)\n",
    "status = response['EndpointStatus']\n",
    "print('EndpointStatus = {}'.format(status))\n",
    "\n",
    "\n",
    "# wait until the status has changed\n",
    "sagemaker.get_waiter('endpoint_in_service').wait(EndpointName=endpoint_name)\n",
    "\n",
    "\n",
    "# print the status of the endpoint\n",
    "endpoint_response = sagemaker.describe_endpoint(EndpointName=endpoint_name)\n",
    "status = endpoint_response['EndpointStatus']\n",
    "print('Endpoint creation ended with EndpointStatus = {}'.format(status))\n",
    "\n",
    "if status != 'InService':\n",
    "    raise Exception('Endpoint creation failed.')"
   ]
  },
  {
   "cell_type": "markdown",
   "metadata": {},
   "source": [
    "If you see the message,\n",
    "\n",
    "> `Endpoint creation ended with EndpointStatus = InService`\n",
    "\n",
    "then congratulations! You now have a functioning inference endpoint. You can confirm the endpoint configuration and status by navigating to the \"Endpoints\" tab in the AWS SageMaker console."
   ]
  },
  {
   "cell_type": "markdown",
   "metadata": {},
   "source": [
    "### Step IC12: Prepare upload directory\n"
   ]
  },
  {
   "cell_type": "markdown",
   "metadata": {},
   "source": [
    "***First make the direcctory for test data upload***"
   ]
  },
  {
   "cell_type": "code",
   "execution_count": null,
   "metadata": {},
   "outputs": [],
   "source": [
    "import os\n",
    "path = \"{}/test-images\".format(os.getcwd())\n",
    "if not os.path.exists(path):\n",
    "    os.makedirs(path)"
   ]
  },
  {
   "cell_type": "markdown",
   "metadata": {},
   "source": [
    "### Step IC13: Upload test data"
   ]
  },
  {
   "cell_type": "markdown",
   "metadata": {},
   "source": [
    "**IMPORTANT:**   \n",
    "***Please upload several (e.g. 10) images to /test-images folder in this Jupyter Notebook***"
   ]
  },
  {
   "cell_type": "markdown",
   "metadata": {},
   "source": [
    "***Display image***"
   ]
  },
  {
   "cell_type": "code",
   "execution_count": null,
   "metadata": {},
   "outputs": [],
   "source": [
    "from IPython.display import HTML\n",
    "import os\n",
    "\n",
    "test_images = os.listdir(path)\n",
    "display_string = ''\n",
    "for im in test_images:\n",
    "    file_name = \"{}/{}\".format('./test-images',im)\n",
    "    display_string += '<figure style=\"float:left;\"><img src=\"{}\" alt=\"{}\" width=\"200\"/><figcaption ><center>{}</center></figcaption></figure>'.format(file_name, im, im)\n",
    "\n",
    "HTML(data=display_string)\n",
    "    "
   ]
  },
  {
   "cell_type": "markdown",
   "metadata": {},
   "source": [
    "### Step IC13: Perform evaluation\n",
    "\n",
    "Evaluate the images through the network for inteference for every images uploaded to /test-data folder"
   ]
  },
  {
   "cell_type": "code",
   "execution_count": null,
   "metadata": {},
   "outputs": [],
   "source": [
    "import boto3\n",
    "import json\n",
    "import numpy as np\n",
    "from IPython.display import Image\n",
    "\n",
    "runtime = boto3.Session().client(service_name='runtime.sagemaker')\n",
    "\n",
    "for im in test_images:\n",
    "    file_name = \"{}/{}\".format(path,im)\n",
    "    with open(file_name, 'rb') as f:\n",
    "        payload = f.read()\n",
    "        payload = bytearray(payload)\n",
    "    response = runtime.invoke_endpoint(EndpointName=endpoint_name, \n",
    "                                       ContentType='application/x-image', \n",
    "                                       Body=payload)\n",
    "    result = response['Body'].read()\n",
    "    # result will be in json format and convert it to ndarray\n",
    "    result = json.loads(result)\n",
    "    # the result will output the probabilities for all classes\n",
    "    # find the class with maximum probability and print the class index\n",
    "    index = np.argmax(result)\n",
    "    display(Image(\"./test-images/{}\".format(im)))\n",
    "    print(\"File name: {} Result: label - {} with confidence {}\\n\\n\".format(im, categories[index], str(result[index])))"
   ]
  },
  {
   "cell_type": "markdown",
   "metadata": {},
   "source": [
    "### Step IC15: Clean up (Optional) \n",
    "\n",
    "If you are using this notebook only for trial/experiment, you might want to delete the Sagemaker Endpoint created to avoid cost."
   ]
  },
  {
   "cell_type": "code",
   "execution_count": null,
   "metadata": {},
   "outputs": [],
   "source": [
    "sage.delete_endpoint(EndpointName=endpoint_name)"
   ]
  },
  {
   "cell_type": "markdown",
   "metadata": {},
   "source": [
    "***Delete images source and model output in S3 (Optional)***"
   ]
  },
  {
   "cell_type": "code",
   "execution_count": null,
   "metadata": {},
   "outputs": [],
   "source": [
    "import boto3\n",
    "s3 = boto3.client('s3')\n",
    "s3_objects = s3.list_objects(\n",
    "    Bucket=bucket,\n",
    "    Delimiter=',',\n",
    "    EncodingType='url',\n",
    "    MaxKeys=5000,\n",
    "    Prefix=project_name\n",
    ")\n",
    "to_be_deleted = list(map(lambda x: {'Key':x['Key']},s3_objects['Contents']))\n",
    "s3.delete_objects(\n",
    "    Bucket=bucket,\n",
    "    Delete={\n",
    "        'Objects': to_be_deleted,\n",
    "        'Quiet': True\n",
    "    }\n",
    ")"
   ]
  },
  {
   "cell_type": "markdown",
   "metadata": {},
   "source": [
    "***Clean up data in this Jupyter Notebook (Optional)***"
   ]
  },
  {
   "cell_type": "code",
   "execution_count": null,
   "metadata": {},
   "outputs": [],
   "source": [
    "!rm -rf ./test-images\n",
    "!rm -rf ./input-images\n",
    "!rm -f input-images.zip\n",
    "!rm -rf __MACOSX"
   ]
  }
 ],
 "metadata": {
  "kernelspec": {
   "display_name": "conda_python3",
   "language": "python",
   "name": "conda_python3"
  },
  "language_info": {
   "codemirror_mode": {
    "name": "ipython",
    "version": 3
   },
   "file_extension": ".py",
   "mimetype": "text/x-python",
   "name": "python",
   "nbconvert_exporter": "python",
   "pygments_lexer": "ipython3",
   "version": "3.6.5"
  }
 },
 "nbformat": 4,
 "nbformat_minor": 2
}
